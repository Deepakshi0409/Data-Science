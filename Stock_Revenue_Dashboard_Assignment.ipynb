{
 "cells": [
  {
   "cell_type": "markdown",
   "id": "0bbaece6",
   "metadata": {},
   "source": [
    "# Analyzing Historical Stock/Revenue Data and Building a Dashboard"
   ]
  },
  {
   "cell_type": "markdown",
   "id": "e3246b19",
   "metadata": {},
   "source": [
    "**Name:** Deepakshi Indresh  \n",
    "**Date:** March 26, 2025"
   ]
  },
  {
   "cell_type": "markdown",
   "id": "e32138e2",
   "metadata": {},
   "source": [
    "## Question 1: Extracting Tesla Stock Data Using yfinance"
   ]
  },
  {
   "cell_type": "code",
   "execution_count": null,
   "id": "30343e45",
   "metadata": {},
   "outputs": [],
   "source": [
    "import yfinance as yf\n",
    "tesla = yf.Ticker('TSLA')\n",
    "tesla_data = tesla.history(period='max')\n",
    "tesla_data.reset_index(inplace=True)\n",
    "tesla_data.head()"
   ]
  },
  {
   "cell_type": "markdown",
   "id": "821c0a32",
   "metadata": {},
   "source": [
    "## Question 2: Extracting Tesla Revenue Data Using Web Scraping"
   ]
  },
  {
   "cell_type": "code",
   "execution_count": null,
   "id": "05cf607d",
   "metadata": {},
   "outputs": [],
   "source": [
    "import pandas as pd\n",
    "import requests\n",
    "from bs4 import BeautifulSoup\n",
    "\n",
    "url = 'https://www.macrotrends.net/stocks/charts/TSLA/tesla/revenue'\n",
    "html_data = requests.get(url).text\n",
    "soup = BeautifulSoup(html_data, 'html.parser')\n",
    "tables = soup.find_all('table')\n",
    "tesla_revenue = pd.read_html(str(tables[1]))[0]\n",
    "tesla_revenue.columns = ['Date', 'Revenue']\n",
    "tesla_revenue = tesla_revenue[tesla_revenue['Revenue'] != '']\n",
    "tesla_revenue.dropna(inplace=True)\n",
    "tesla_revenue.tail()"
   ]
  },
  {
   "cell_type": "markdown",
   "id": "d6880c5a",
   "metadata": {},
   "source": [
    "## Question 3: Extracting GameStop Stock Data Using yfinance"
   ]
  },
  {
   "cell_type": "code",
   "execution_count": null,
   "id": "3bacb704",
   "metadata": {},
   "outputs": [],
   "source": [
    "gamestop = yf.Ticker('GME')\n",
    "gme_data = gamestop.history(period='max')\n",
    "gme_data.reset_index(inplace=True)\n",
    "gme_data.head()"
   ]
  },
  {
   "cell_type": "markdown",
   "id": "912df822",
   "metadata": {},
   "source": [
    "## Question 4: Extracting GameStop Revenue Data Using Web Scraping"
   ]
  },
  {
   "cell_type": "code",
   "execution_count": null,
   "id": "6df64db0",
   "metadata": {},
   "outputs": [],
   "source": [
    "url = 'https://www.macrotrends.net/stocks/charts/GME/gamestop/revenue'\n",
    "html_data = requests.get(url).text\n",
    "soup = BeautifulSoup(html_data, 'html.parser')\n",
    "tables = soup.find_all('table')\n",
    "gme_revenue = pd.read_html(str(tables[1]))[0]\n",
    "gme_revenue.columns = ['Date', 'Revenue']\n",
    "gme_revenue = gme_revenue[gme_revenue['Revenue'] != '']\n",
    "gme_revenue.dropna(inplace=True)\n",
    "gme_revenue.tail()"
   ]
  },
  {
   "cell_type": "markdown",
   "id": "4a8f8ebd",
   "metadata": {},
   "source": [
    "## Question 5: Tesla Stock and Revenue Dashboard"
   ]
  },
  {
   "cell_type": "code",
   "execution_count": null,
   "id": "9a22596d",
   "metadata": {},
   "outputs": [],
   "source": [
    "import plotly.graph_objs as go\n",
    "\n",
    "fig = go.Figure()\n",
    "fig.add_trace(go.Scatter(x=tesla_data['Date'], y=tesla_data['Close'], name='Tesla Stock Price'))\n",
    "fig.add_trace(go.Scatter(x=tesla_revenue['Date'], y=tesla_revenue['Revenue'], name='Tesla Revenue'))\n",
    "fig.update_layout(title='Tesla Stock Price and Revenue Over Time', xaxis_title='Date', yaxis_title='Value')\n",
    "fig.show()"
   ]
  },
  {
   "cell_type": "markdown",
   "id": "677321ef",
   "metadata": {},
   "source": [
    "## Question 6: GameStop Stock and Revenue Dashboard"
   ]
  },
  {
   "cell_type": "code",
   "execution_count": null,
   "id": "87570741",
   "metadata": {},
   "outputs": [],
   "source": [
    "fig = go.Figure()\n",
    "fig.add_trace(go.Scatter(x=gme_data['Date'], y=gme_data['Close'], name='GameStop Stock Price'))\n",
    "fig.add_trace(go.Scatter(x=gme_revenue['Date'], y=gme_revenue['Revenue'], name='GameStop Revenue'))\n",
    "fig.update_layout(title='GameStop Stock Price and Revenue Over Time', xaxis_title='Date', yaxis_title='Value')\n",
    "fig.show()"
   ]
  },
  {
   "cell_type": "markdown",
   "id": "3a6290b1",
   "metadata": {},
   "source": [
    "## Question 7: Sharing your Assignment Notebook"
   ]
  },
  {
   "cell_type": "markdown",
   "id": "31af79d7",
   "metadata": {},
   "source": [
    "Upload your completed Jupyter Notebook to GitHub and provide the link below.\n",
    "\n",
    "Example: https://github.com/yourusername/stock-analysis-dashboard"
   ]
  }
 ],
 "metadata": {},
 "nbformat": 4,
 "nbformat_minor": 5
}