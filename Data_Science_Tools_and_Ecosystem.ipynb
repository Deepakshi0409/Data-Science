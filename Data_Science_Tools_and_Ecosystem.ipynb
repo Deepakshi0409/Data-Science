{
 "cells": [
  {
   "cell_type": "markdown",
   "id": "06b83ac9",
   "metadata": {},
   "source": [
    "# Data Science Tools and Ecosystem"
   ]
  },
  {
   "cell_type": "markdown",
   "id": "03b18bce",
   "metadata": {},
   "source": [
    "In this notebook, we will explore some of the most commonly used tools, libraries, and languages in the field of Data Science."
   ]
  },
  {
   "cell_type": "markdown",
   "id": "7b6a9fa7",
   "metadata": {},
   "source": [
    "## Some of the popular languages that Data Scientists use are:\n",
    "- Python\n",
    "- R\n",
    "- SQL\n",
    "- Scala\n",
    "- Java"
   ]
  },
  {
   "cell_type": "markdown",
   "id": "61c63901",
   "metadata": {},
   "source": [
    "## Some of the commonly used libraries used by Data Scientists include:\n",
    "- Pandas\n",
    "- NumPy\n",
    "- Scikit-learn\n",
    "- TensorFlow\n",
    "- Matplotlib"
   ]
  },
  {
   "cell_type": "markdown",
   "id": "182bec77",
   "metadata": {},
   "source": [
    "## Data Science Tools\n",
    "\n",
    "| Tool           | Description                  |\n",
    "|----------------|------------------------------|\n",
    "| Jupyter        | Interactive development      |\n",
    "| RStudio        | IDE for R                    |\n",
    "| Apache Spark   | Big data processing engine   |"
   ]
  },
  {
   "cell_type": "markdown",
   "id": "ec016878",
   "metadata": {},
   "source": [
    "### Below are a few examples of evaluating arithmetic expressions in Python."
   ]
  },
  {
   "cell_type": "code",
   "execution_count": null,
   "id": "107dcfa2",
   "metadata": {},
   "outputs": [],
   "source": [
    "# This is a simple arithmetic expression to multiply then add numbers\n",
    "(3 * 4) + 5"
   ]
  },
  {
   "cell_type": "code",
   "execution_count": null,
   "id": "35d47975",
   "metadata": {},
   "outputs": [],
   "source": [
    "# This will convert 200 minutes to hours by dividing by 60\n",
    "minutes = 200\n",
    "hours = minutes / 60\n",
    "hours"
   ]
  },
  {
   "cell_type": "markdown",
   "id": "41bf0e28",
   "metadata": {},
   "source": [
    "## Objectives:\n",
    "- List popular languages for Data Science\n",
    "- List commonly used libraries\n",
    "- Create markdown cells\n",
    "- Use arithmetic expressions in code cells\n",
    "- Share notebooks through GitHub"
   ]
  },
  {
   "cell_type": "markdown",
   "id": "03642abd",
   "metadata": {},
   "source": [
    "**Author:** Deepakshi Indresh"
   ]
  }
 ],
 "metadata": {},
 "nbformat": 4,
 "nbformat_minor": 5
}
